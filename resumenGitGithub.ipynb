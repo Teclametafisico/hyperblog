{
 "cells": [
  {
   "cell_type": "code",
   "execution_count": 1,
   "metadata": {},
   "outputs": [
    {
     "name": "stdout",
     "output_type": "stream",
     "text": [
      "git and github\n"
     ]
    }
   ],
   "source": [
    "print(\"git and github\")"
   ]
  },
  {
   "cell_type": "markdown",
   "metadata": {},
   "source": [
    "## GIT AND GITHUB\n",
    "### COMANDOS GIT \n",
    "\n",
    "Primero se crea una carperta, luego mediante en terminal de git **Git Bash** iniciamos git con \"_git init_\""
   ]
  },
  {
   "cell_type": "code",
   "execution_count": 2,
   "metadata": {},
   "outputs": [
    {
     "name": "stdout",
     "output_type": "stream",
     "text": [
      "Reinitialized existing Git repository in C:/Users/User/Documents/cursos Platzi/Ejercicios con git/.git/\n"
     ]
    }
   ],
   "source": [
    "!git init"
   ]
  },
  {
   "cell_type": "markdown",
   "metadata": {},
   "source": [
    "Ahora se pueden realizar modificaiones en el archivo, entre esas modificaciones esta este resumen del curso, pero para tener un mejor entendimiento se realizara el siguiente ejemplo.\n",
    "\n",
    "- 11:51 am del 18 de Julio de 2022 se guardara las modificaiones."
   ]
  },
  {
   "cell_type": "code",
   "execution_count": 5,
   "metadata": {},
   "outputs": [
    {
     "name": "stdout",
     "output_type": "stream",
     "text": [
      "On branch master\n",
      "nothing to commit, working tree clean\n"
     ]
    }
   ],
   "source": [
    "!git status"
   ]
  },
  {
   "cell_type": "code",
   "execution_count": 6,
   "metadata": {},
   "outputs": [
    {
     "name": "stdout",
     "output_type": "stream",
     "text": [
      "commit d6a96acaefe384cfd054e2ea551ca7849d7fedf5\n",
      "Author: Darwin Renato <darwinfuego1793@gmail.com>\n",
      "Date:   Mon Jul 18 11:54:32 2022 -0500\n",
      "\n",
      "    Primer guardado del ejercicio de git\n",
      "\n",
      "diff --git a/resumenGitGithub.ipynb b/resumenGitGithub.ipynb\n",
      "new file mode 100644\n",
      "index 0000000..0f953cb\n",
      "--- /dev/null\n",
      "+++ b/resumenGitGithub.ipynb\n",
      "@@ -0,0 +1,82 @@\n",
      "+{\n",
      "+ \"cells\": [\n",
      "+  {\n",
      "+   \"cell_type\": \"code\",\n",
      "+   \"execution_count\": 1,\n",
      "+   \"metadata\": {},\n",
      "+   \"outputs\": [\n",
      "+    {\n",
      "+     \"name\": \"stdout\",\n",
      "+     \"output_type\": \"stream\",\n",
      "+     \"text\": [\n",
      "+      \"git and github\\n\"\n",
      "+     ]\n",
      "+    }\n",
      "+   ],\n",
      "+   \"source\": [\n",
      "+    \"print(\\\"git and github\\\")\"\n",
      "+   ]\n",
      "+  },\n",
      "+  {\n",
      "+   \"cell_type\": \"markdown\",\n",
      "+   \"metadata\": {},\n",
      "+   \"source\": [\n",
      "+    \"## GIT AND GITHUB\\n\",\n",
      "+    \"### COMANDOS GIT \\n\",\n",
      "+    \"\\n\",\n",
      "+    \"    Primero se crea una carperta, luego mediante en terminal de git **GitBash** iniciamos git con _gitinit _\"\n",
      "+   ]\n",
      "+  },\n",
      "+  {\n",
      "+   \"cell_type\": \"code\",\n",
      "+   \"execution_count\": 2,\n",
      "+   \"metadata\": {},\n",
      "+   \"outputs\": [\n",
      "+    {\n",
      "+     \"name\": \"stdout\",\n",
      "+     \"output_type\": \"stream\",\n",
      "+     \"text\": [\n",
      "+      \"Reinitialized existing Git repository in C:/Users/User/Documents/cursos Platzi/Ejercicios con git/.git/\\n\"\n",
      "+     ]\n",
      "+    }\n",
      "+   ],\n",
      "+   \"source\": [\n",
      "+    \"!git init\"\n",
      "+   ]\n",
      "+  },\n",
      "+  {\n",
      "+   \"cell_type\": \"markdown\",\n",
      "+   \"metadata\": {},\n",
      "+   \"source\": [\n",
      "+    \"Ahora se pueden realizar modificaiones en el archivo, entre esas modificaciones esta este resumen del curso, pero para tener un mejor entendimiento se realizara el siguiente ejemplo.\\n\",\n",
      "+    \"\\n\",\n",
      "+    \"- 11:51 am del 18 de Julio de 2022 se guardara las modificaiones.\"\n",
      "+   ]\n",
      "+  }\n",
      "+ ],\n",
      "+ \"metadata\": {\n",
      "+  \"interpreter\": {\n",
      "+   \"hash\": \"b3ba2566441a7c06988d0923437866b63cedc61552a5af99d1f4fb67d367b25f\"\n",
      "+  },\n",
      "+  \"kernelspec\": {\n",
      "+   \"display_name\": \"Python 3.9.7 ('base')\",\n",
      "+   \"language\": \"python\",\n",
      "+   \"name\": \"python3\"\n",
      "+  },\n",
      "+  \"language_info\": {\n",
      "+   \"codemirror_mode\": {\n",
      "+    \"name\": \"ipython\",\n",
      "+    \"version\": 3\n",
      "+   },\n",
      "+   \"file_extension\": \".py\",\n",
      "+   \"mimetype\": \"text/x-python\",\n",
      "+   \"name\": \"python\",\n",
      "+   \"nbconvert_exporter\": \"python\",\n",
      "+   \"pygments_lexer\": \"ipython3\",\n",
      "+   \"version\": \"3.9.7\"\n",
      "+  },\n",
      "+  \"orig_nbformat\": 4\n",
      "+ },\n",
      "+ \"nbformat\": 4,\n",
      "+ \"nbformat_minor\": 2\n",
      "+}\n",
      "diff --git a/resumenGitGithub.py b/resumenGitGithub.py\n",
      "new file mode 100644\n",
      "index 0000000..e69de29\n"
     ]
    }
   ],
   "source": [
    "!git show"
   ]
  },
  {
   "cell_type": "markdown",
   "metadata": {},
   "source": [
    "Para guardar la primera modificación en git de \"Primer guardado del ejercicio de git\", se hizo:\n",
    "- \"git status\", donde se evidenciaba que existen dos archivos en la carpera sin ralizar el commit, esto de puede ver tambien por el terminal !dir.\n",
    "- Luego para ejecutar guardar los cambios se utilizó el comando \"git commite -m \"mensaje obligatorio\"\".\n",
    "- Finalmente con el comendo git status se aprecia que no hay modificaciones para realizar commit y con git show se muestran más detalles del primer commit, por ejemplo que se realizó lo siguiente.\n",
    "~~~\n",
    "commit d6a96acaefe384cfd054e2ea551ca7849d7fedf5\n",
    "Author: Darwin Renato <darwinfuego1793@gmail.com>\n",
    "Date:   Mon Jul 18 11:54:32 2022 -0500 \n",
    "~~~\n",
    "Se aprecia el código de commit, el autor y el tiempo en que se realizó. y el mensaje que se colocó de la modificación.\n",
    "\n"
   ]
  },
  {
   "cell_type": "code",
   "execution_count": 7,
   "metadata": {},
   "outputs": [
    {
     "name": "stdout",
     "output_type": "stream",
     "text": [
      "commit d6a96acaefe384cfd054e2ea551ca7849d7fedf5\n",
      "Author: Darwin Renato <darwinfuego1793@gmail.com>\n",
      "Date:   Mon Jul 18 11:54:32 2022 -0500\n",
      "\n",
      "    Primer guardado del ejercicio de git\n"
     ]
    }
   ],
   "source": [
    "!git log"
   ]
  },
  {
   "cell_type": "markdown",
   "metadata": {},
   "source": [
    "*\"git log\"* nos mostrará el historias de todos los comid y las modificaciones que se han realizado.\n"
   ]
  }
 ],
 "metadata": {
  "interpreter": {
   "hash": "b3ba2566441a7c06988d0923437866b63cedc61552a5af99d1f4fb67d367b25f"
  },
  "kernelspec": {
   "display_name": "Python 3.9.7 ('base')",
   "language": "python",
   "name": "python3"
  },
  "language_info": {
   "codemirror_mode": {
    "name": "ipython",
    "version": 3
   },
   "file_extension": ".py",
   "mimetype": "text/x-python",
   "name": "python",
   "nbconvert_exporter": "python",
   "pygments_lexer": "ipython3",
   "version": "3.9.7"
  },
  "orig_nbformat": 4
 },
 "nbformat": 4,
 "nbformat_minor": 2
}
